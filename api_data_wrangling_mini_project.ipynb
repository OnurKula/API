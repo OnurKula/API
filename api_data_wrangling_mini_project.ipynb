{
 "cells": [
  {
   "cell_type": "markdown",
   "metadata": {},
   "source": [
    "This exercise will require you to pull some data from https://data.nasdaq.com/ (formerly Quandl API)."
   ]
  },
  {
   "cell_type": "markdown",
   "metadata": {},
   "source": [
    "As a first step, you will need to register a free account on the https://data.nasdaq.com/ website."
   ]
  },
  {
   "cell_type": "markdown",
   "metadata": {},
   "source": [
    "After you register, you will be provided with a unique API key, that you should store:\n",
    "\n",
    "*Note*: Use a `.env` file and put your key in there and `python-dotenv` to access it in this notebook. \n",
    "\n",
    "The code below uses a key that was used when generating this project but has since been deleted. Never submit your keys to source control. There is a `.env-example` file in this repository to illusrtate what you need. Copy that to a file called `.env` and use your own api key in that `.env` file. Make sure you also have a `.gitignore` file with a line for `.env` added to it. \n",
    "\n",
    "The standard Python gitignore is [here](https://github.com/github/gitignore/blob/master/Python.gitignore) you can just copy that. "
   ]
  },
  {
   "cell_type": "code",
   "execution_count": 21,
   "metadata": {},
   "outputs": [],
   "source": [
    "# get api key from your .env file\n",
    "import os\n",
    "from dotenv import load_dotenv\n",
    "\n",
    "load_dotenv()\n",
    "API_KEY = os.getenv('NASDAQ_API_KEY')\n"
   ]
  },
  {
   "cell_type": "markdown",
   "metadata": {},
   "source": [
    "Nasdaq Data has a large number of data sources, but, unfortunately, most of them require a Premium subscription. Still, there are also a good number of free datasets."
   ]
  },
  {
   "cell_type": "markdown",
   "metadata": {},
   "source": [
    "For this mini project, we will focus on equities data from the Frankfurt Stock Exhange (FSE), which is available for free. We'll try and analyze the stock prices of a company called Carl Zeiss Meditec, which manufactures tools for eye examinations, as well as medical lasers for laser eye surgery: https://www.zeiss.com/meditec/int/home.html. The company is listed under the stock ticker AFX_X."
   ]
  },
  {
   "cell_type": "markdown",
   "metadata": {},
   "source": [
    "You can find the detailed Nasdaq Data API instructions here: https://docs.data.nasdaq.com/docs/in-depth-usage"
   ]
  },
  {
   "cell_type": "markdown",
   "metadata": {},
   "source": [
    "While there is a dedicated Python package for connecting to the Nasdaq API, we would prefer that you use the *requests* package, which can be easily downloaded using *pip* or *conda*. You can find the documentation for the package here: http://docs.python-requests.org/en/master/ "
   ]
  },
  {
   "cell_type": "markdown",
   "metadata": {},
   "source": [
    "Finally, apart from the *requests* package, you are encouraged to not use any third party Python packages, such as *pandas*, and instead focus on what's available in the Python Standard Library (the *collections* module might come in handy: https://pymotw.com/3/collections/).\n",
    "Also, since you won't have access to DataFrames, you are encouraged to us Python's native data structures - preferably dictionaries, though some questions can also be answered using lists.\n",
    "You can read more on these data structures here: https://docs.python.org/3/tutorial/datastructures.html"
   ]
  },
  {
   "cell_type": "markdown",
   "metadata": {},
   "source": [
    "Keep in mind that the JSON responses you will be getting from the API map almost one-to-one to Python's dictionaries. Unfortunately, they can be very nested, so make sure you read up on indexing dictionaries in the documentation provided above."
   ]
  },
  {
   "cell_type": "code",
   "execution_count": 9,
   "metadata": {},
   "outputs": [],
   "source": [
    "# First, import the relevant modules"
   ]
  },
  {
   "cell_type": "code",
   "execution_count": 79,
   "metadata": {},
   "outputs": [
    {
     "name": "stdout",
     "output_type": "stream",
     "text": [
      "Sample Stock Prices:\n",
      "Type of data:  <class 'dict'>\n",
      "['2020-12-01', 112.2, 112.2, 111.5, 112.0, None, 51.0, 5703.0, None, None, None]\n",
      "['2020-11-30', 111.0, 113.6, 111.0, 112.1, None, 315.0, 35111.5, None, None, None]\n",
      "['2020-11-27', 111.0, 111.5, 109.5, 111.2, None, 155.0, 17168.5, None, None, None]\n",
      "['2020-11-26', 111.3, 112.0, 110.5, 111.6, None, 254.0, 28367.5, None, None, None]\n",
      "['2020-11-25', 111.4, 111.4, 110.1, 110.1, None, 294.0, 32435.8, None, None, None]\n"
     ]
    }
   ],
   "source": [
    "import requests\n",
    "\n",
    "\n",
    "\n",
    "base_url = \"https://data.nasdaq.com/api/v3/\"\n",
    "\n",
    "endpoint = \"datasets/FSE/\"\n",
    "\n",
    "ticker = \"AFX_X\"\n",
    "\n",
    "url = f\"{base_url}{endpoint}{ticker}.json?api_key={API_KEY}\"\n",
    "\n",
    "response = requests.get(url)\n",
    "\n",
    "if response.status_code == 200:\n",
    "    data = response.json()\n",
    "\n",
    "    \n",
    "    stock_prices = data[\"dataset\"][\"data\"]\n",
    "\n",
    "    \n",
    "    print(\"Sample Stock Prices:\")\n",
    "    print(\"Type of data: \",type(data))\n",
    "    for entry in stock_prices[:5]:\n",
    "        print(entry)\n",
    "else:\n",
    "    \n",
    "    print(f\"Error: {response.status_code}, {response.text}\")\n"
   ]
  },
  {
   "cell_type": "code",
   "execution_count": 29,
   "metadata": {},
   "outputs": [
    {
     "data": {
      "text/plain": [
       "list"
      ]
     },
     "execution_count": 29,
     "metadata": {},
     "output_type": "execute_result"
    }
   ],
   "source": [
    "type(stock_prices)"
   ]
  },
  {
   "cell_type": "code",
   "execution_count": 46,
   "metadata": {},
   "outputs": [
    {
     "data": {
      "text/plain": [
       "str"
      ]
     },
     "execution_count": 46,
     "metadata": {},
     "output_type": "execute_result"
    }
   ],
   "source": [
    "type(stock_prices[0][0])"
   ]
  },
  {
   "cell_type": "code",
   "execution_count": 53,
   "metadata": {},
   "outputs": [
    {
     "name": "stdout",
     "output_type": "stream",
     "text": [
      "['2020-12-01', 112.2, 112.2, 111.5, 112.0, None, 51.0, 5703.0, None, None, None]\n",
      "['2020-11-30', 111.0, 113.6, 111.0, 112.1, None, 315.0, 35111.5, None, None, None]\n",
      "['2020-11-27', 111.0, 111.5, 109.5, 111.2, None, 155.0, 17168.5, None, None, None]\n",
      "['2020-11-26', 111.3, 112.0, 110.5, 111.6, None, 254.0, 28367.5, None, None, None]\n",
      "['2020-11-25', 111.4, 111.4, 110.1, 110.1, None, 294.0, 32435.8, None, None, None]\n"
     ]
    }
   ],
   "source": [
    "a = 0\n",
    "for i in stock_prices:\n",
    "    print(i)\n",
    "    a +=1\n",
    "    if a == 5:\n",
    "        break"
   ]
  },
  {
   "cell_type": "code",
   "execution_count": 56,
   "metadata": {},
   "outputs": [],
   "source": [
    "my_2017 = []\n",
    "for i in stock_prices:\n",
    "    if \"2017-\" in i[0]:\n",
    "        my_2017.append(i)\n"
   ]
  },
  {
   "cell_type": "code",
   "execution_count": 65,
   "metadata": {},
   "outputs": [
    {
     "data": {
      "text/plain": [
       "[['2017-12-29',\n",
       "  51.76,\n",
       "  51.94,\n",
       "  51.45,\n",
       "  51.76,\n",
       "  None,\n",
       "  34640.0,\n",
       "  1792304.0,\n",
       "  None,\n",
       "  None,\n",
       "  None],\n",
       " ['2017-12-28',\n",
       "  51.65,\n",
       "  51.82,\n",
       "  51.43,\n",
       "  51.6,\n",
       "  None,\n",
       "  40660.0,\n",
       "  2099024.0,\n",
       "  None,\n",
       "  None,\n",
       "  None]]"
      ]
     },
     "execution_count": 65,
     "metadata": {},
     "output_type": "execute_result"
    }
   ],
   "source": [
    "my_2017[0:2]"
   ]
  },
  {
   "cell_type": "code",
   "execution_count": 71,
   "metadata": {},
   "outputs": [
    {
     "data": {
      "text/plain": [
       "['2017-01-02',\n",
       " 34.99,\n",
       " 35.94,\n",
       " 34.99,\n",
       " 35.8,\n",
       " None,\n",
       " 44700.0,\n",
       " 1590561.0,\n",
       " None,\n",
       " None,\n",
       " None]"
      ]
     },
     "execution_count": 71,
     "metadata": {},
     "output_type": "execute_result"
    }
   ],
   "source": [
    "my_2017[254] # it is the first day"
   ]
  },
  {
   "cell_type": "markdown",
   "metadata": {},
   "source": [
    "Note: API's can change a bit with each version, for this exercise it is reccomended to use the nasdaq api at `https://data.nasdaq.com/api/v3/`. This is the same api as what used to be quandl so `https://www.quandl.com/api/v3/` should work too.\n",
    "\n",
    "Hint: We are looking for the `AFX_X` data on the `datasets/FSE/` dataset."
   ]
  },
  {
   "cell_type": "code",
   "execution_count": 3,
   "metadata": {},
   "outputs": [],
   "source": [
    "# Now, call the Nasdaq API and pull out a small sample of the data (only one day) to get a glimpse\n",
    "# into the JSON structure that will be returned"
   ]
  },
  {
   "cell_type": "code",
   "execution_count": 4,
   "metadata": {},
   "outputs": [
    {
     "data": {
      "text/plain": [
       "{'dataset': {'id': 10095370,\n",
       "  'dataset_code': 'AFX_X',\n",
       "  'database_code': 'FSE',\n",
       "  'name': 'Carl Zeiss Meditec (AFX_X)',\n",
       "  'description': 'Stock Prices for Carl Zeiss Meditec (2020-11-02) from the Frankfurt Stock Exchange.<br><br>Trading System: Xetra<br><br>ISIN: DE0005313704',\n",
       "  'refreshed_at': '2020-12-01T14:48:09.907Z',\n",
       "  'newest_available_date': '2020-12-01',\n",
       "  'oldest_available_date': '2000-06-07',\n",
       "  'column_names': ['Date',\n",
       "   'Open',\n",
       "   'High',\n",
       "   'Low',\n",
       "   'Close',\n",
       "   'Change',\n",
       "   'Traded Volume',\n",
       "   'Turnover',\n",
       "   'Last Price of the Day',\n",
       "   'Daily Traded Units',\n",
       "   'Daily Turnover'],\n",
       "  'frequency': 'daily',\n",
       "  'type': 'Time Series',\n",
       "  'premium': False,\n",
       "  'limit': None,\n",
       "  'transform': None,\n",
       "  'column_index': None,\n",
       "  'start_date': '2021-01-03',\n",
       "  'end_date': '2020-12-01',\n",
       "  'data': [],\n",
       "  'collapse': None,\n",
       "  'order': None,\n",
       "  'database_id': 6129}}"
      ]
     },
     "execution_count": 4,
     "metadata": {},
     "output_type": "execute_result"
    }
   ],
   "source": [
    "# Inspect the JSON structure of the object you created, and take note of how nested it is,\n",
    "# as well as the overall structure"
   ]
  },
  {
   "cell_type": "markdown",
   "metadata": {},
   "source": [
    "These are your tasks for this mini project:\n",
    "\n",
    "1. Collect data from the Franfurt Stock Exchange, for the ticker AFX_X, for the whole year 2017 (keep in mind that the date format is YYYY-MM-DD).\n",
    "2. Convert the returned JSON object into a Python dictionary.\n",
    "3. Calculate what the highest and lowest opening prices were for the stock in this period.\n",
    "4. What was the largest change in any one day (based on High and Low price)?\n",
    "5. What was the largest change between any two days (based on Closing Price)?\n",
    "6. What was the average daily trading volume during this year?\n",
    "7. (Optional) What was the median trading volume during this year. (Note: you may need to implement your own function for calculating the median.)"
   ]
  },
  {
   "cell_type": "code",
   "execution_count": 73,
   "metadata": {},
   "outputs": [],
   "source": [
    "# 1.) Collect data from the Franfurt Stock Exchange, for the ticker AFX_X,\n",
    "#for the whole year 2017 (keep in mind that the date format is YYYY-MM-DD)."
   ]
  },
  {
   "cell_type": "code",
   "execution_count": 75,
   "metadata": {},
   "outputs": [
    {
     "data": {
      "text/plain": [
       "[['2017-12-29',\n",
       "  51.76,\n",
       "  51.94,\n",
       "  51.45,\n",
       "  51.76,\n",
       "  None,\n",
       "  34640.0,\n",
       "  1792304.0,\n",
       "  None,\n",
       "  None,\n",
       "  None],\n",
       " ['2017-12-28',\n",
       "  51.65,\n",
       "  51.82,\n",
       "  51.43,\n",
       "  51.6,\n",
       "  None,\n",
       "  40660.0,\n",
       "  2099024.0,\n",
       "  None,\n",
       "  None,\n",
       "  None]]"
      ]
     },
     "execution_count": 75,
     "metadata": {},
     "output_type": "execute_result"
    }
   ],
   "source": [
    "my_2017 = []\n",
    "for i in stock_prices:\n",
    "    if \"2017-\" in i[0]:\n",
    "        my_2017.append(i)\n",
    "my_2017[0:2]"
   ]
  },
  {
   "cell_type": "code",
   "execution_count": 77,
   "metadata": {},
   "outputs": [],
   "source": [
    "# 2.) Convert the returned JSON object into a Python dictionary."
   ]
  },
  {
   "cell_type": "code",
   "execution_count": 80,
   "metadata": {},
   "outputs": [
    {
     "data": {
      "text/plain": [
       "dict"
      ]
     },
     "execution_count": 80,
     "metadata": {},
     "output_type": "execute_result"
    }
   ],
   "source": [
    "type(data)"
   ]
  },
  {
   "cell_type": "code",
   "execution_count": 81,
   "metadata": {},
   "outputs": [],
   "source": [
    "# 3.) Calculate what the highest and lowest opening prices were for the stock in this period."
   ]
  },
  {
   "cell_type": "code",
   "execution_count": 92,
   "metadata": {},
   "outputs": [
    {
     "data": {
      "text/plain": [
       "51.76"
      ]
     },
     "execution_count": 92,
     "metadata": {},
     "output_type": "execute_result"
    }
   ],
   "source": [
    "my_2017[0][1] # it is the opening price"
   ]
  },
  {
   "cell_type": "code",
   "execution_count": 87,
   "metadata": {},
   "outputs": [
    {
     "data": {
      "text/plain": [
       "51.76"
      ]
     },
     "execution_count": 87,
     "metadata": {},
     "output_type": "execute_result"
    }
   ],
   "source": [
    "my_2017[0][4] # it is the closing price"
   ]
  },
  {
   "cell_type": "code",
   "execution_count": 89,
   "metadata": {},
   "outputs": [
    {
     "data": {
      "text/plain": [
       "255"
      ]
     },
     "execution_count": 89,
     "metadata": {},
     "output_type": "execute_result"
    }
   ],
   "source": [
    "len(my_2017)"
   ]
  },
  {
   "cell_type": "code",
   "execution_count": 141,
   "metadata": {},
   "outputs": [
    {
     "name": "stdout",
     "output_type": "stream",
     "text": [
      "251\n",
      "Highest Opening Price: 53.11. Lowest Opening Price: 34.0 \n"
     ]
    }
   ],
   "source": [
    "opening_price = []\n",
    "x = 0\n",
    "while True:\n",
    "\n",
    "    opening_price.append(my_2017[x][1])\n",
    "    x = x + 1\n",
    "    if x == 254:\n",
    "        break\n",
    "new_opening_price = []\n",
    "for x in opening_price:\n",
    "  if (x != None):\n",
    "    new_opening_price.append(x)\n",
    "\n",
    "print(len(new_opening_price)) # There were 4 None values\n",
    "print(f\"Highest Opening Price: {max(new_opening_price)}. Lowest Opening Price: {min(new_opening_price)} \")\n"
   ]
  },
  {
   "cell_type": "code",
   "execution_count": 142,
   "metadata": {},
   "outputs": [],
   "source": [
    "# 4.) What was the largest change in any one day (based on High and Low price)?"
   ]
  },
  {
   "cell_type": "code",
   "execution_count": 147,
   "metadata": {},
   "outputs": [
    {
     "name": "stdout",
     "output_type": "stream",
     "text": [
      "254\n",
      "Highest Closing Price: 53.09 \n"
     ]
    }
   ],
   "source": [
    "closing_price = []\n",
    "x = 0\n",
    "while True:\n",
    "\n",
    "    closing_price.append(my_2017[x][4])\n",
    "    x = x + 1\n",
    "    if x == 254:\n",
    "        break\n",
    "new_closing_price = []\n",
    "for x in closing_price:\n",
    "  if (x != None):\n",
    "    new_closing_price.append(x)\n",
    "\n",
    "print(len(new_closing_price)) # There were 1 None values\n",
    "print(f\"Highest Closing Price: {max(new_closing_price)} \")"
   ]
  },
  {
   "cell_type": "code",
   "execution_count": 149,
   "metadata": {},
   "outputs": [
    {
     "data": {
      "text/plain": [
       "[51.76, 51.65, 51.45, 51.05, 51.16, 51.88, 52.73, 52.37, 52.7, 53.11]"
      ]
     },
     "execution_count": 149,
     "metadata": {},
     "output_type": "execute_result"
    }
   ],
   "source": [
    "opening_price[0:10]"
   ]
  },
  {
   "cell_type": "code",
   "execution_count": 150,
   "metadata": {},
   "outputs": [
    {
     "data": {
      "text/plain": [
       "[51.76, 51.6, 51.82, 51.32, 51.4, 51.27, 51.66, 52.62, 52.01, 52.67]"
      ]
     },
     "execution_count": 150,
     "metadata": {},
     "output_type": "execute_result"
    }
   ],
   "source": [
    "closing_price[0:10]"
   ]
  },
  {
   "cell_type": "code",
   "execution_count": 164,
   "metadata": {},
   "outputs": [
    {
     "name": "stdout",
     "output_type": "stream",
     "text": [
      "There is None Value\n",
      "There is None Value\n",
      "There is None Value\n"
     ]
    }
   ],
   "source": [
    "largest_change_list = []\n",
    "for i,k in zip(opening_price,closing_price):\n",
    "    try:\n",
    "        a = (100*k)/i\n",
    "        largest_change_list.append(a)\n",
    "    except TypeError:\n",
    "        print(\"There is None Value\")"
   ]
  },
  {
   "cell_type": "code",
   "execution_count": 166,
   "metadata": {},
   "outputs": [
    {
     "name": "stdout",
     "output_type": "stream",
     "text": [
      "The Largest change is: 3.714285714285708 %\n"
     ]
    }
   ],
   "source": [
    "print(f\"The Largest change is: {max(largest_change_list)-100} %\")"
   ]
  },
  {
   "cell_type": "code",
   "execution_count": 159,
   "metadata": {},
   "outputs": [
    {
     "name": "stdout",
     "output_type": "stream",
     "text": [
      "There is None Value\n",
      "There is None Value\n",
      "There is None Value\n"
     ]
    }
   ],
   "source": [
    "largest_change_list = []\n",
    "for i,k in zip(opening_price,closing_price):\n",
    "    try:\n",
    "        a = abs(k-i)\n",
    "        largest_change_list.append(a)\n",
    "    except TypeError:\n",
    "        print(\"There is None Value\")"
   ]
  },
  {
   "cell_type": "code",
   "execution_count": 160,
   "metadata": {},
   "outputs": [
    {
     "name": "stdout",
     "output_type": "stream",
     "text": [
      "The Largest change is: 1.6899999999999977\n"
     ]
    }
   ],
   "source": [
    "print(f\"The Largest change is: {max(largest_change_list)}\")"
   ]
  },
  {
   "cell_type": "code",
   "execution_count": 161,
   "metadata": {},
   "outputs": [],
   "source": [
    "#5.) What was the largest change between any two days (based on Closing Price)?"
   ]
  },
  {
   "cell_type": "code",
   "execution_count": 169,
   "metadata": {},
   "outputs": [
    {
     "data": {
      "text/plain": [
       "['2017-12-29',\n",
       " 51.76,\n",
       " 51.94,\n",
       " 51.45,\n",
       " 51.76,\n",
       " None,\n",
       " 34640.0,\n",
       " 1792304.0,\n",
       " None,\n",
       " None,\n",
       " None]"
      ]
     },
     "execution_count": 169,
     "metadata": {},
     "output_type": "execute_result"
    }
   ],
   "source": [
    "my_2017[0]"
   ]
  },
  {
   "cell_type": "code",
   "execution_count": 171,
   "metadata": {},
   "outputs": [
    {
     "data": {
      "text/plain": [
       "51.76"
      ]
     },
     "execution_count": 171,
     "metadata": {},
     "output_type": "execute_result"
    }
   ],
   "source": [
    "my_2017[0][4] # it is closing price"
   ]
  },
  {
   "cell_type": "code",
   "execution_count": 181,
   "metadata": {},
   "outputs": [],
   "source": [
    "closing_price = []\n",
    "x = 0\n",
    "while True:\n",
    "    closing_price.append(my_2017[x][4])\n",
    "    x +=1\n",
    "    if x == 254:\n",
    "        break\n",
    "\n",
    "\n"
   ]
  },
  {
   "cell_type": "code",
   "execution_count": 183,
   "metadata": {},
   "outputs": [
    {
     "data": {
      "text/plain": [
       "51.76"
      ]
     },
     "execution_count": 183,
     "metadata": {},
     "output_type": "execute_result"
    }
   ],
   "source": [
    "closing_price2 = closing_price.copy()\n",
    "closing_price2.pop(0)"
   ]
  },
  {
   "cell_type": "code",
   "execution_count": 185,
   "metadata": {},
   "outputs": [
    {
     "name": "stdout",
     "output_type": "stream",
     "text": [
      "Largest Change: 2.559999999999995\n"
     ]
    }
   ],
   "source": [
    "largest_change = []\n",
    "for i, x in zip(closing_price,closing_price2):\n",
    "    try:\n",
    "        a = x-i\n",
    "    except:\n",
    "        print(\"It is okey\")\n",
    "    largest_change.append(a)\n",
    "print(f\"Largest Change: {max(largest_change)}\")"
   ]
  },
  {
   "cell_type": "code",
   "execution_count": 186,
   "metadata": {},
   "outputs": [],
   "source": [
    "#6.) What was the average daily trading volume during this year?"
   ]
  },
  {
   "cell_type": "code",
   "execution_count": 187,
   "metadata": {},
   "outputs": [
    {
     "data": {
      "text/plain": [
       "['2017-12-29',\n",
       " 51.76,\n",
       " 51.94,\n",
       " 51.45,\n",
       " 51.76,\n",
       " None,\n",
       " 34640.0,\n",
       " 1792304.0,\n",
       " None,\n",
       " None,\n",
       " None]"
      ]
     },
     "execution_count": 187,
     "metadata": {},
     "output_type": "execute_result"
    }
   ],
   "source": [
    "my_2017[0]"
   ]
  },
  {
   "cell_type": "code",
   "execution_count": 188,
   "metadata": {},
   "outputs": [
    {
     "data": {
      "text/plain": [
       "34640.0"
      ]
     },
     "execution_count": 188,
     "metadata": {},
     "output_type": "execute_result"
    }
   ],
   "source": [
    "my_2017[0][6] # it is the trading volume"
   ]
  },
  {
   "cell_type": "code",
   "execution_count": 191,
   "metadata": {},
   "outputs": [],
   "source": [
    "import numpy as np"
   ]
  },
  {
   "cell_type": "code",
   "execution_count": 192,
   "metadata": {},
   "outputs": [
    {
     "name": "stdout",
     "output_type": "stream",
     "text": [
      "The average daily trading volume: 89299.23622047243\n"
     ]
    }
   ],
   "source": [
    "x = 0\n",
    "trading_list = []\n",
    "while True:\n",
    "    trading_list.append(my_2017[x][6])\n",
    "    x +=1\n",
    "    if x == 254:\n",
    "        break\n",
    "average = np.mean(trading_list)\n",
    "print(f\"The average daily trading volume: {average}\")"
   ]
  },
  {
   "cell_type": "code",
   "execution_count": 193,
   "metadata": {},
   "outputs": [],
   "source": [
    "# 7.) What was the median trading volume during this year."
   ]
  },
  {
   "cell_type": "code",
   "execution_count": 195,
   "metadata": {},
   "outputs": [
    {
     "name": "stdout",
     "output_type": "stream",
     "text": [
      "The median daily trading volume: 76443.0\n"
     ]
    }
   ],
   "source": [
    "x = 0\n",
    "trading_list = []\n",
    "while True:\n",
    "    trading_list.append(my_2017[x][6])\n",
    "    x +=1\n",
    "    if x == 254:\n",
    "        break\n",
    "median = np.median(trading_list)\n",
    "print(f\"The median daily trading volume: {median}\")"
   ]
  },
  {
   "cell_type": "code",
   "execution_count": null,
   "metadata": {},
   "outputs": [],
   "source": []
  }
 ],
 "metadata": {
  "interpreter": {
   "hash": "7635eb1b9d0fe97add78a7368b6b431c09bb8ad5c42e437d64abdd99821c31ae"
  },
  "kernelspec": {
   "display_name": "Python 3 (ipykernel)",
   "language": "python",
   "name": "python3"
  },
  "language_info": {
   "codemirror_mode": {
    "name": "ipython",
    "version": 3
   },
   "file_extension": ".py",
   "mimetype": "text/x-python",
   "name": "python",
   "nbconvert_exporter": "python",
   "pygments_lexer": "ipython3",
   "version": "3.10.9"
  }
 },
 "nbformat": 4,
 "nbformat_minor": 4
}
